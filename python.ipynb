{
  "nbformat": 4,
  "nbformat_minor": 0,
  "metadata": {
    "colab": {
      "provenance": [],
      "gpuType": "T4",
      "authorship_tag": "ABX9TyNTJPpc2LVHFUcuyZLqv/VG",
      "include_colab_link": true
    },
    "kernelspec": {
      "name": "python3",
      "display_name": "Python 3"
    },
    "language_info": {
      "name": "python"
    },
    "accelerator": "GPU"
  },
  "cells": [
    {
      "cell_type": "markdown",
      "metadata": {
        "id": "view-in-github",
        "colab_type": "text"
      },
      "source": [
        "<a href=\"https://colab.research.google.com/github/waleed-kn/THIRD-SEMESTER/blob/main/python.ipynb\" target=\"_parent\"><img src=\"https://colab.research.google.com/assets/colab-badge.svg\" alt=\"Open In Colab\"/></a>"
      ]
    },
    {
      "cell_type": "code",
      "execution_count": null,
      "metadata": {
        "id": "JDb6VUlVjHTB"
      },
      "outputs": [],
      "source": []
    },
    {
      "cell_type": "code",
      "source": [
        "print(\"hello world\")"
      ],
      "metadata": {
        "colab": {
          "base_uri": "https://localhost:8080/"
        },
        "id": "Wr8tP3XIjzFC",
        "outputId": "fcdbf3b1-0cff-4c72-b37d-0740363a2dc8"
      },
      "execution_count": null,
      "outputs": [
        {
          "output_type": "stream",
          "name": "stdout",
          "text": [
            "hello world\n"
          ]
        }
      ]
    },
    {
      "cell_type": "code",
      "source": [
        "num = int(input(\"Enter a number: \"))\n",
        "\n",
        "# Find remainder using modulus operator\n",
        "remainder = num % 2\n",
        "\n",
        "# Output\n",
        "print(\"Remainder when\", num, \"is divided by 2 is:\", remainder)"
      ],
      "metadata": {
        "id": "qKIRmQT4j5_R"
      },
      "execution_count": null,
      "outputs": []
    },
    {
      "cell_type": "code",
      "source": [
        "num=int(input(\"enter the number\"))\n",
        "remainder=num%2\n",
        "print(\"remainder is \",remainder)"
      ],
      "metadata": {
        "id": "54YViekCkFli"
      },
      "execution_count": null,
      "outputs": []
    },
    {
      "cell_type": "code",
      "source": [
        "value=input(\"enter the number\")\n",
        "print(\"this is \",value)\n",
        "print(\"type of the variable is\",type(value))"
      ],
      "metadata": {
        "id": "vPL7LVZ_tsvH"
      },
      "execution_count": null,
      "outputs": []
    },
    {
      "cell_type": "code",
      "source": [
        "a=30\n",
        "b=40\n",
        "if(a>b):\n",
        "  print(\"a is greater than b\")\n",
        "else:\n",
        "    print(\"a is not gretaer tha b\")\n"
      ],
      "metadata": {
        "id": "--QDbzEQuFCX"
      },
      "execution_count": null,
      "outputs": []
    },
    {
      "cell_type": "code",
      "source": [
        "num1=float(input(\"enter the number 1\"))\n",
        "num2=float(input(\"enter the number 2\"))\n",
        "average=(num1+num2)/2\n",
        "print(\"average \",num1,\"is\",num2,average)\n",
        "\n"
      ],
      "metadata": {
        "collapsed": true,
        "id": "QBTnHMzeuyfh"
      },
      "execution_count": null,
      "outputs": []
    },
    {
      "cell_type": "code",
      "source": [
        "num=int(input(\"enter the number to find the square of it\"))\n",
        "square=num*num\n",
        "print(\"square of it \",num,\"is\",square)"
      ],
      "metadata": {
        "id": "pXfWoXrDxFQY"
      },
      "execution_count": null,
      "outputs": []
    },
    {
      "cell_type": "code",
      "source": [
        "s='harry'\n",
        "print(len(s))"
      ],
      "metadata": {
        "id": "FbMV5nroua2u",
        "colab": {
          "base_uri": "https://localhost:8080/"
        },
        "outputId": "96aa5c17-3555-4cd5-f0be-8cbf7d373259"
      },
      "execution_count": 3,
      "outputs": [
        {
          "output_type": "stream",
          "name": "stdout",
          "text": [
            "5\n"
          ]
        }
      ]
    },
    {
      "cell_type": "code",
      "source": [
        "i=\"waleed\"\n",
        "print(i.endswith(\"eed\"))\n",
        "print(i.endswith(\"d\"))\n",
        "print(i.endswith(\"w\"))"
      ],
      "metadata": {
        "colab": {
          "base_uri": "https://localhost:8080/"
        },
        "id": "r2m24OA-Gkb5",
        "outputId": "1446b7eb-c2ee-4039-cb73-03f1b113581f"
      },
      "execution_count": 11,
      "outputs": [
        {
          "output_type": "stream",
          "name": "stdout",
          "text": [
            "True\n",
            "True\n",
            "False\n"
          ]
        }
      ]
    },
    {
      "cell_type": "code",
      "source": [
        "a=\"Waleed\"\n",
        "print(a.count(\"e\"))"
      ],
      "metadata": {
        "colab": {
          "base_uri": "https://localhost:8080/"
        },
        "id": "0zkjRY7WHONh",
        "outputId": "af23b3a5-3721-4185-d2d2-b3bc0e3ff7a5"
      },
      "execution_count": 12,
      "outputs": [
        {
          "output_type": "stream",
          "name": "stdout",
          "text": [
            "2\n"
          ]
        }
      ]
    },
    {
      "cell_type": "code",
      "source": [
        "s=\"python programming\"\n",
        "print(s.capitalize())"
      ],
      "metadata": {
        "colab": {
          "base_uri": "https://localhost:8080/"
        },
        "id": "Cdy81p7HH27h",
        "outputId": "10f72037-ada4-4f0a-ca60-2d451471e297"
      },
      "execution_count": 15,
      "outputs": [
        {
          "output_type": "stream",
          "name": "stdout",
          "text": [
            "Python programming\n"
          ]
        }
      ]
    },
    {
      "cell_type": "code",
      "source": [
        "w=\"waleed\"\n",
        "print(w.find(\"x\"))"
      ],
      "metadata": {
        "colab": {
          "base_uri": "https://localhost:8080/"
        },
        "id": "EML_OuqlIngv",
        "outputId": "057683b8-5c37-4896-e48f-e60303f5f074"
      },
      "execution_count": 16,
      "outputs": [
        {
          "output_type": "stream",
          "name": "stdout",
          "text": [
            "-1\n"
          ]
        }
      ]
    },
    {
      "cell_type": "code",
      "source": [
        "w=\"waleed\"\n",
        "print(w.find(\"d\"))"
      ],
      "metadata": {
        "colab": {
          "base_uri": "https://localhost:8080/"
        },
        "id": "ug-NrcR_I2QF",
        "outputId": "af733739-b582-4fea-fc11-4981eddfc0e0"
      },
      "execution_count": 20,
      "outputs": [
        {
          "output_type": "stream",
          "name": "stdout",
          "text": [
            "5\n"
          ]
        }
      ]
    },
    {
      "cell_type": "code",
      "source": [
        "w=\"i like  to do python \"\n",
        "print(w.replace(\"like\",\"love\",))"
      ],
      "metadata": {
        "colab": {
          "base_uri": "https://localhost:8080/"
        },
        "id": "o-KNIh-lJoRM",
        "outputId": "497775fa-b188-4728-ea84-1d288157d379"
      },
      "execution_count": 24,
      "outputs": [
        {
          "output_type": "stream",
          "name": "stdout",
          "text": [
            "i love  to do python \n"
          ]
        }
      ]
    },
    {
      "cell_type": "code",
      "source": [
        "w=\"apple apple apple\"\n",
        "print(w.replace(\"apple\",\"mango\",1))"
      ],
      "metadata": {
        "id": "R_HSohL8KPHm",
        "outputId": "3a0ab659-0627-4205-b4e3-8ad9143cd18e",
        "colab": {
          "base_uri": "https://localhost:8080/"
        }
      },
      "execution_count": 27,
      "outputs": [
        {
          "output_type": "stream",
          "name": "stdout",
          "text": [
            "mango apple apple\n"
          ]
        }
      ]
    },
    {
      "cell_type": "code",
      "source": [
        "print(\"hello\\nworld\")\n",
        "print(\"hello\\tworld\")\n",
        "print('it\\'s python')\n",
        "print(\"he said \\\"hi\\\"\")"
      ],
      "metadata": {
        "id": "6tQZStoqK5RO",
        "outputId": "e95210da-95cb-490c-f4c9-3c1ce3a7a125",
        "colab": {
          "base_uri": "https://localhost:8080/"
        }
      },
      "execution_count": 35,
      "outputs": [
        {
          "output_type": "stream",
          "name": "stdout",
          "text": [
            "hello\n",
            "world\n",
            "hello\tworld\n",
            "it's python\n",
            "he said \"hi\"\n"
          ]
        }
      ]
    },
    {
      "cell_type": "code",
      "source": [
        "print(\"hello\\nworld\")\n",
        "print(\"hello\\tworld\")\n",
        "print(\"he said \\\"hey\\\"\")"
      ],
      "metadata": {
        "id": "9drI31eDMV8F",
        "outputId": "02482bde-dfd3-4142-f4b9-41e6b8d8fe13",
        "colab": {
          "base_uri": "https://localhost:8080/"
        }
      },
      "execution_count": 37,
      "outputs": [
        {
          "output_type": "stream",
          "name": "stdout",
          "text": [
            "hello\n",
            "world\n",
            "hello\tworld\n",
            "he said \"hey\"\n"
          ]
        }
      ]
    }
  ]
}