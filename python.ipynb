{
  "nbformat": 4,
  "nbformat_minor": 0,
  "metadata": {
    "colab": {
      "provenance": [],
      "gpuType": "T4",
      "authorship_tag": "ABX9TyPF/66eY2KE0+gVd5syOFuY",
      "include_colab_link": true
    },
    "kernelspec": {
      "name": "python3",
      "display_name": "Python 3"
    },
    "language_info": {
      "name": "python"
    },
    "accelerator": "GPU"
  },
  "cells": [
    {
      "cell_type": "markdown",
      "metadata": {
        "id": "view-in-github",
        "colab_type": "text"
      },
      "source": [
        "<a href=\"https://colab.research.google.com/github/waleed-kn/THIRD-SEMESTER/blob/main/python.ipynb\" target=\"_parent\"><img src=\"https://colab.research.google.com/assets/colab-badge.svg\" alt=\"Open In Colab\"/></a>"
      ]
    },
    {
      "cell_type": "code",
      "execution_count": 13,
      "metadata": {
        "id": "JDb6VUlVjHTB"
      },
      "outputs": [],
      "source": []
    },
    {
      "cell_type": "code",
      "source": [
        "print(\"hello world\")"
      ],
      "metadata": {
        "colab": {
          "base_uri": "https://localhost:8080/"
        },
        "id": "Wr8tP3XIjzFC",
        "outputId": "fcdbf3b1-0cff-4c72-b37d-0740363a2dc8"
      },
      "execution_count": 14,
      "outputs": [
        {
          "output_type": "stream",
          "name": "stdout",
          "text": [
            "hello world\n"
          ]
        }
      ]
    },
    {
      "cell_type": "code",
      "source": [
        "num = int(input(\"Enter a number: \"))\n",
        "\n",
        "# Find remainder using modulus operator\n",
        "remainder = num % 2\n",
        "\n",
        "# Output\n",
        "print(\"Remainder when\", num, \"is divided by 2 is:\", remainder)"
      ],
      "metadata": {
        "id": "qKIRmQT4j5_R"
      },
      "execution_count": null,
      "outputs": []
    },
    {
      "cell_type": "code",
      "source": [
        "num=int(input(\"enter the number\"))\n",
        "remainder=num%2\n",
        "print(\"remainder is \",remainder)"
      ],
      "metadata": {
        "id": "54YViekCkFli"
      },
      "execution_count": null,
      "outputs": []
    },
    {
      "cell_type": "code",
      "source": [
        "value=input(\"enter the number\")\n",
        "print(\"this is \",value)\n",
        "print(\"type of the variable is\",type(value))"
      ],
      "metadata": {
        "id": "vPL7LVZ_tsvH"
      },
      "execution_count": null,
      "outputs": []
    },
    {
      "cell_type": "code",
      "source": [
        "a=30\n",
        "b=40\n",
        "if(a>b):\n",
        "  print(\"a is greater than b\")\n",
        "else:\n",
        "    print(\"a is not gretaer tha b\")\n"
      ],
      "metadata": {
        "id": "--QDbzEQuFCX"
      },
      "execution_count": null,
      "outputs": []
    },
    {
      "cell_type": "code",
      "source": [
        "num1=float(input(\"enter the number 1\"))\n",
        "num2=float(input(\"enter the number 2\"))\n",
        "average=(num1+num2)/2\n",
        "print(\"average \",num1,\"is\",num2,average)\n",
        "\n"
      ],
      "metadata": {
        "collapsed": true,
        "id": "QBTnHMzeuyfh"
      },
      "execution_count": null,
      "outputs": []
    },
    {
      "cell_type": "code",
      "source": [
        "num=int(input(\"enter the number to find the square of it\"))\n",
        "square=num*num\n",
        "print(\"square of it \",num,\"is\",square)"
      ],
      "metadata": {
        "id": "pXfWoXrDxFQY"
      },
      "execution_count": null,
      "outputs": []
    },
    {
      "cell_type": "code",
      "source": [],
      "metadata": {
        "id": "FbMV5nroua2u"
      },
      "execution_count": null,
      "outputs": []
    }
  ]
}