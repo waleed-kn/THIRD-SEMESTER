{
  "nbformat": 4,
  "nbformat_minor": 0,
  "metadata": {
    "colab": {
      "provenance": [],
      "gpuType": "T4",
      "authorship_tag": "ABX9TyMcmrpz8bQ4uU9gNEze1dhU",
      "include_colab_link": true
    },
    "kernelspec": {
      "name": "python3",
      "display_name": "Python 3"
    },
    "language_info": {
      "name": "python"
    },
    "accelerator": "GPU"
  },
  "cells": [
    {
      "cell_type": "markdown",
      "metadata": {
        "id": "view-in-github",
        "colab_type": "text"
      },
      "source": [
        "<a href=\"https://colab.research.google.com/github/waleed-kn/THIRD-SEMESTER/blob/main/python.ipynb\" target=\"_parent\"><img src=\"https://colab.research.google.com/assets/colab-badge.svg\" alt=\"Open In Colab\"/></a>"
      ]
    },
    {
      "cell_type": "code",
      "execution_count": null,
      "metadata": {
        "id": "JDb6VUlVjHTB"
      },
      "outputs": [],
      "source": []
    },
    {
      "cell_type": "code",
      "source": [
        "print(\"hello world\")"
      ],
      "metadata": {
        "colab": {
          "base_uri": "https://localhost:8080/"
        },
        "id": "Wr8tP3XIjzFC",
        "outputId": "fcdbf3b1-0cff-4c72-b37d-0740363a2dc8"
      },
      "execution_count": null,
      "outputs": [
        {
          "output_type": "stream",
          "name": "stdout",
          "text": [
            "hello world\n"
          ]
        }
      ]
    },
    {
      "cell_type": "code",
      "source": [],
      "metadata": {
        "id": "KdOPfhysW_OL"
      },
      "execution_count": null,
      "outputs": []
    },
    {
      "cell_type": "code",
      "source": [
        "# Program to find the greatest of four numbers\n",
        "\n",
        "# Taking input from the user\n",
        "num1 = int(input(\"Enter first number: \"))\n",
        "num2 = int(input(\"Enter second number: \"))\n",
        "num3 = int(input(\"Enter third number: \"))\n",
        "num4 = int(input(\"Enter fourth number: \"))\n",
        "# Finding the greatest\n",
        "greatest = num1\n",
        "if num2 > greatest:\n",
        "    greatest = num2\n",
        "if num3 > greatest:\n",
        "    greatest = num3\n",
        "if num4 > greatest:\n",
        "    greatest = num4\n",
        "# Display result\n",
        "print(\"The greatest number is:\", greatest)\n"
      ],
      "metadata": {
        "id": "U9F8iONzXQOM",
        "outputId": "98bd7ad4-5254-4338-a0aa-7f8e5d770ef5",
        "colab": {
          "base_uri": "https://localhost:8080/"
        }
      },
      "execution_count": null,
      "outputs": [
        {
          "output_type": "stream",
          "name": "stdout",
          "text": [
            "Enter first number: 2\n",
            "Enter second number: 3\n",
            "Enter third number: 4\n",
            "Enter fourth number: 5\n",
            "The greatest number is: 5\n"
          ]
        }
      ]
    },
    {
      "cell_type": "code",
      "source": [
        "num1=int(input(\"enter the first number\"))\n",
        "num2=int(input(\"enter the second number\"))\n",
        "num3=int(input(\"enter the third number\"))\n",
        "num4=int(input(\"enter the fourth number\"))\n",
        "if num2>greatest:\n",
        "  greatest=num2\n",
        "if num3>greatest:\n",
        "  greatest=num3\n",
        "if num4>greatest:\n",
        "  greatest=num4\n",
        "print(\"the greatest number is\",greatest)\n"
      ],
      "metadata": {
        "id": "y4RYtofXXbZ_",
        "outputId": "b4164b83-04cb-43f6-b786-aec3771d8b1a",
        "colab": {
          "base_uri": "https://localhost:8080/"
        }
      },
      "execution_count": null,
      "outputs": [
        {
          "output_type": "stream",
          "name": "stdout",
          "text": [
            "enter the first number1\n",
            "enter the second number2\n",
            "enter the third number4\n",
            "enter the fourth number5\n",
            "the greatest number is 5\n"
          ]
        }
      ]
    },
    {
      "cell_type": "code",
      "source": [
        "# Program to check if a student is Pass or Fail\n",
        "\n",
        "# Taking marks input for 3 subjects\n",
        "sub1 = int(input(\"Enter marks of Subject 1: \"))\n",
        "sub2 = int(input(\"Enter marks of Subject 2: \"))\n",
        "sub3 = int(input(\"Enter marks of Subject 3: \"))\n",
        "\n",
        "# Total and percentage\n",
        "total = sub1 + sub2 + sub3\n",
        "percentage = (total / 300) * 100   # assuming each subject is out of 100\n",
        "\n",
        "# Checking conditions\n",
        "if sub1 < 33 or sub2 < 33 or sub3 < 33:\n",
        "    print(\"Fail (less than 33 marks in a subject)\")\n",
        "elif percentage < 40:\n",
        "    print(\"Fail (less than 40% overall)\")\n",
        "else:\n",
        "    print(\"Pass\")\n",
        "\n",
        "# Displaying percentage\n",
        "print(\"Your percentage is:\", percentage, \"%\")\n"
      ],
      "metadata": {
        "id": "djLn6EytZpD7",
        "outputId": "57b51b01-168e-4d9b-964a-e19217c9b961",
        "colab": {
          "base_uri": "https://localhost:8080/"
        }
      },
      "execution_count": null,
      "outputs": [
        {
          "output_type": "stream",
          "name": "stdout",
          "text": [
            "Enter marks of Subject 1: 45\n",
            "Enter marks of Subject 2: 55\n",
            "Enter marks of Subject 3: 66\n",
            "Pass\n",
            "Your percentage is: 55.333333333333336 %\n"
          ]
        }
      ]
    },
    {
      "cell_type": "code",
      "source": [
        "sub1=int(input(\"enter the first marks\"))\n",
        "sub2=int(input(\"enter the secomd number\"))\n",
        "sub3=int(input(\"enter the third number\"))\n",
        "total=sub1+sub2+sub3\n",
        "percentage=(100/300)*100\n",
        "if sub1<33 or sub2<33 or sub3<33:\n",
        "  print(\"fail(fail less than 33)\")\n",
        "elif percentage<40:\n",
        "  print(\"fail(fail less than 40 %)\")\n",
        "else:\n",
        "  print(\"pass\")\n",
        "  print(\"your overall percentage is\",percentage)\n",
        "\n",
        "\n",
        "\n",
        "\n"
      ],
      "metadata": {
        "id": "zUWTeOcEZxOC",
        "outputId": "6d4b99c9-86a6-48d1-8c78-64fa68684d49",
        "colab": {
          "base_uri": "https://localhost:8080/"
        }
      },
      "execution_count": null,
      "outputs": [
        {
          "output_type": "stream",
          "name": "stdout",
          "text": [
            "enter the first marks77\n",
            "enter the secomd number88\n",
            "enter the third number88\n",
            "fail(fail less than 40 %)\n"
          ]
        }
      ]
    },
    {
      "cell_type": "code",
      "source": [
        "username=input(\"enter the username\")\n",
        "if len(username)<10:\n",
        "  print(\"username contain less than 10 character\")\n",
        "else:\n",
        "    print(\"user name contain more than 10 words\")\n"
      ],
      "metadata": {
        "id": "GZT6zHTFcDDS",
        "outputId": "1df070f0-9df0-4998-8782-24abda7269cb",
        "colab": {
          "base_uri": "https://localhost:8080/"
        }
      },
      "execution_count": null,
      "outputs": [
        {
          "output_type": "stream",
          "name": "stdout",
          "text": [
            "enter the usernamewaleedkhan\n",
            "user name contain more than 10 words\n"
          ]
        }
      ]
    },
    {
      "cell_type": "code",
      "source": [
        "# Program to print multiplication table of a given number\n",
        "\n",
        "num = int(input(\"Enter a number: \"))\n",
        "\n",
        "print(f\"\\nMultiplication Table of {num}:\")\n",
        "for i in range(1, 11):   # from 1 to 10\n",
        "    print(f\"{num} x {i} = {num * i}\")\n"
      ],
      "metadata": {
        "collapsed": true,
        "id": "LxI3de93dZFl",
        "outputId": "16c9ac9a-8f32-4e3b-f78d-9b8d70f1d38d",
        "colab": {
          "base_uri": "https://localhost:8080/"
        }
      },
      "execution_count": null,
      "outputs": [
        {
          "output_type": "stream",
          "name": "stdout",
          "text": [
            "Enter a number: 7\n",
            "\n",
            "Multiplication Table of 7:\n",
            "7 x 1 = 7\n",
            "7 x 2 = 14\n",
            "7 x 3 = 21\n",
            "7 x 4 = 28\n",
            "7 x 5 = 35\n",
            "7 x 6 = 42\n",
            "7 x 7 = 49\n",
            "7 x 8 = 56\n",
            "7 x 9 = 63\n",
            "7 x 10 = 70\n"
          ]
        }
      ]
    },
    {
      "cell_type": "code",
      "source": [
        "num = int(input(\"Enter a number: \"))\n",
        "\n",
        "# Find remainder using modulus operator\n",
        "remainder = num % 2\n",
        "\n",
        "# Output\n",
        "print(\"Remainder when\", num, \"is divided by 2 is:\", remainder)"
      ],
      "metadata": {
        "id": "qKIRmQT4j5_R",
        "outputId": "1067b960-770e-4a1e-e533-ac2c7e6a7df1",
        "colab": {
          "base_uri": "https://localhost:8080/"
        }
      },
      "execution_count": null,
      "outputs": [
        {
          "output_type": "stream",
          "name": "stdout",
          "text": [
            "Enter a number: 4\n",
            "Remainder when 4 is divided by 2 is: 0\n"
          ]
        }
      ]
    },
    {
      "cell_type": "code",
      "source": [
        "num=int(input(\"enter the number\"))\n",
        "print(f\"multiplicaton of the table{num}\")\n",
        "for i in range(1,11):\n",
        "  print(f\"{num}x{i}={num*i}\")"
      ],
      "metadata": {
        "id": "rJDDrbovdoho",
        "outputId": "64e2e57a-4339-4508-b42c-cc4d9de0df71",
        "colab": {
          "base_uri": "https://localhost:8080/"
        }
      },
      "execution_count": null,
      "outputs": [
        {
          "output_type": "stream",
          "name": "stdout",
          "text": [
            "enter the number7\n",
            "multiplicaton of the table7\n",
            "7x1=7\n",
            "7x2=14\n",
            "7x3=21\n",
            "7x4=28\n",
            "7x5=35\n",
            "7x6=42\n",
            "7x7=49\n",
            "7x8=56\n",
            "7x9=63\n",
            "7x10=70\n"
          ]
        }
      ]
    },
    {
      "cell_type": "code",
      "source": [
        "num=int(input(\"enter the number to multiple it\"))\n",
        "print(f\"multiplication of this number is {num}\")\n",
        "for i in range(1,11):\n",
        "  print(f\"{num}x{i}={num*i}\")"
      ],
      "metadata": {
        "id": "16z6CfUteXgb",
        "outputId": "fc66fd01-662d-46e1-b8fc-a294a5ea18f0",
        "colab": {
          "base_uri": "https://localhost:8080/"
        }
      },
      "execution_count": null,
      "outputs": [
        {
          "output_type": "stream",
          "name": "stdout",
          "text": [
            "enter the number to multiple it5\n",
            "multiplication of this number is 5\n",
            "5x1=5\n",
            "5x2=10\n",
            "5x3=15\n",
            "5x4=20\n",
            "5x5=25\n",
            "5x6=30\n",
            "5x7=35\n",
            "5x8=40\n",
            "5x9=45\n",
            "5x10=50\n"
          ]
        }
      ]
    },
    {
      "cell_type": "code",
      "source": [],
      "metadata": {
        "id": "hUiNgzcUnjNh"
      },
      "execution_count": null,
      "outputs": []
    },
    {
      "cell_type": "code",
      "source": [
        "for i in range(1,5):\n",
        "  for j in range(3,5):\n",
        "    print(f\"({i},{j})\",end=\" \")"
      ],
      "metadata": {
        "id": "Us-OvI40nkO1",
        "outputId": "76b9030e-812e-4a2a-cd0a-3596099f8221",
        "colab": {
          "base_uri": "https://localhost:8080/"
        }
      },
      "execution_count": 1,
      "outputs": [
        {
          "output_type": "stream",
          "name": "stdout",
          "text": [
            "(1,3) (1,4) (2,3) (2,4) (3,3) (3,4) (4,3) (4,4) "
          ]
        }
      ]
    },
    {
      "cell_type": "code",
      "source": [
        "for i in range(1,5):\n",
        "  for k in range(2,4):\n",
        "    print(f\"({i},{k})\",end=\" \")"
      ],
      "metadata": {
        "id": "5RINcOnHqjzw",
        "outputId": "75f8a577-f4db-449d-c185-550ad8c065f5",
        "colab": {
          "base_uri": "https://localhost:8080/"
        }
      },
      "execution_count": 6,
      "outputs": [
        {
          "output_type": "stream",
          "name": "stdout",
          "text": [
            "(1,2) (1,3) (2,2) (2,3) (3,2) (3,3) (4,2) (4,3) "
          ]
        }
      ]
    },
    {
      "cell_type": "code",
      "source": [
        "num=int(input(\"enter the number\"))\n",
        "remainder=num%2\n",
        "print(\"remainder is \",remainder)"
      ],
      "metadata": {
        "id": "54YViekCkFli"
      },
      "execution_count": null,
      "outputs": []
    },
    {
      "cell_type": "code",
      "source": [
        "value=input(\"enter the number\")\n",
        "print(\"this is \",value)\n",
        "print(\"type of the variable is\",type(value))"
      ],
      "metadata": {
        "id": "vPL7LVZ_tsvH"
      },
      "execution_count": null,
      "outputs": []
    },
    {
      "cell_type": "code",
      "source": [
        "a=30\n",
        "b=40\n",
        "if(a>b):\n",
        "  print(\"a is greater than b\")\n",
        "else:\n",
        "    print(\"a is not gretaer tha b\")\n"
      ],
      "metadata": {
        "id": "--QDbzEQuFCX"
      },
      "execution_count": null,
      "outputs": []
    },
    {
      "cell_type": "code",
      "source": [
        "num1=float(input(\"enter the number 1\"))\n",
        "num2=float(input(\"enter the number 2\"))\n",
        "average=(num1+num2)/2\n",
        "print(\"average \",num1,\"is\",num2,average)\n",
        "\n"
      ],
      "metadata": {
        "collapsed": true,
        "id": "QBTnHMzeuyfh"
      },
      "execution_count": null,
      "outputs": []
    },
    {
      "cell_type": "code",
      "source": [
        "num=int(input(\"enter the number to find the square of it\"))\n",
        "square=num*num\n",
        "print(\"square of it \",num,\"is\",square)"
      ],
      "metadata": {
        "id": "pXfWoXrDxFQY"
      },
      "execution_count": null,
      "outputs": []
    },
    {
      "cell_type": "code",
      "source": [
        "s='harry'\n",
        "print(len(s))"
      ],
      "metadata": {
        "id": "FbMV5nroua2u",
        "colab": {
          "base_uri": "https://localhost:8080/"
        },
        "outputId": "96aa5c17-3555-4cd5-f0be-8cbf7d373259"
      },
      "execution_count": null,
      "outputs": [
        {
          "output_type": "stream",
          "name": "stdout",
          "text": [
            "5\n"
          ]
        }
      ]
    },
    {
      "cell_type": "code",
      "source": [
        "i=\"waleed\"\n",
        "print(i.endswith(\"eed\"))\n",
        "print(i.endswith(\"d\"))\n",
        "print(i.endswith(\"w\"))"
      ],
      "metadata": {
        "colab": {
          "base_uri": "https://localhost:8080/"
        },
        "id": "r2m24OA-Gkb5",
        "outputId": "1446b7eb-c2ee-4039-cb73-03f1b113581f"
      },
      "execution_count": null,
      "outputs": [
        {
          "output_type": "stream",
          "name": "stdout",
          "text": [
            "True\n",
            "True\n",
            "False\n"
          ]
        }
      ]
    },
    {
      "cell_type": "code",
      "source": [
        "a=\"Waleed\"\n",
        "print(a.count(\"e\"))"
      ],
      "metadata": {
        "colab": {
          "base_uri": "https://localhost:8080/"
        },
        "id": "0zkjRY7WHONh",
        "outputId": "af23b3a5-3721-4185-d2d2-b3bc0e3ff7a5"
      },
      "execution_count": null,
      "outputs": [
        {
          "output_type": "stream",
          "name": "stdout",
          "text": [
            "2\n"
          ]
        }
      ]
    },
    {
      "cell_type": "code",
      "source": [
        "s=\"python programming\"\n",
        "print(s.capitalize())"
      ],
      "metadata": {
        "colab": {
          "base_uri": "https://localhost:8080/"
        },
        "id": "Cdy81p7HH27h",
        "outputId": "10f72037-ada4-4f0a-ca60-2d451471e297"
      },
      "execution_count": null,
      "outputs": [
        {
          "output_type": "stream",
          "name": "stdout",
          "text": [
            "Python programming\n"
          ]
        }
      ]
    },
    {
      "cell_type": "code",
      "source": [
        "w=\"waleed\"\n",
        "print(w.find(\"x\"))"
      ],
      "metadata": {
        "colab": {
          "base_uri": "https://localhost:8080/"
        },
        "id": "EML_OuqlIngv",
        "outputId": "057683b8-5c37-4896-e48f-e60303f5f074"
      },
      "execution_count": null,
      "outputs": [
        {
          "output_type": "stream",
          "name": "stdout",
          "text": [
            "-1\n"
          ]
        }
      ]
    },
    {
      "cell_type": "code",
      "source": [
        "w=\"waleed\"\n",
        "print(w.find(\"d\"))"
      ],
      "metadata": {
        "colab": {
          "base_uri": "https://localhost:8080/"
        },
        "id": "ug-NrcR_I2QF",
        "outputId": "af733739-b582-4fea-fc11-4981eddfc0e0"
      },
      "execution_count": null,
      "outputs": [
        {
          "output_type": "stream",
          "name": "stdout",
          "text": [
            "5\n"
          ]
        }
      ]
    },
    {
      "cell_type": "code",
      "source": [
        "w=\"i like  to do python \"\n",
        "print(w.replace(\"like\",\"love\",))"
      ],
      "metadata": {
        "colab": {
          "base_uri": "https://localhost:8080/"
        },
        "id": "o-KNIh-lJoRM",
        "outputId": "497775fa-b188-4728-ea84-1d288157d379"
      },
      "execution_count": null,
      "outputs": [
        {
          "output_type": "stream",
          "name": "stdout",
          "text": [
            "i love  to do python \n"
          ]
        }
      ]
    },
    {
      "cell_type": "code",
      "source": [
        "w=\"apple apple apple\"\n",
        "print(w.replace(\"apple\",\"mango\",1))"
      ],
      "metadata": {
        "colab": {
          "base_uri": "https://localhost:8080/"
        },
        "id": "R_HSohL8KPHm",
        "outputId": "3a0ab659-0627-4205-b4e3-8ad9143cd18e"
      },
      "execution_count": null,
      "outputs": [
        {
          "output_type": "stream",
          "name": "stdout",
          "text": [
            "mango apple apple\n"
          ]
        }
      ]
    },
    {
      "cell_type": "code",
      "source": [
        "print(\"hello\\nworld\")\n",
        "print(\"hello\\tworld\")\n",
        "print('it\\'s python')\n",
        "print(\"he said \\\"hi\\\"\")"
      ],
      "metadata": {
        "colab": {
          "base_uri": "https://localhost:8080/"
        },
        "id": "6tQZStoqK5RO",
        "outputId": "e95210da-95cb-490c-f4c9-3c1ce3a7a125"
      },
      "execution_count": null,
      "outputs": [
        {
          "output_type": "stream",
          "name": "stdout",
          "text": [
            "hello\n",
            "world\n",
            "hello\tworld\n",
            "it's python\n",
            "he said \"hi\"\n"
          ]
        }
      ]
    },
    {
      "cell_type": "code",
      "source": [
        "print(\"hello\\nworld\")\n",
        "print(\"hello\\tworld\")\n",
        "print(\"he said \\\"hey\\\"\")\n",
        "print(\"c:\\\\waleed\\\\waleed\\\\\")\n",
        "print(\"c:\\\\khan\\\\khan\")"
      ],
      "metadata": {
        "colab": {
          "base_uri": "https://localhost:8080/"
        },
        "id": "9drI31eDMV8F",
        "outputId": "8a54b2d8-4e8f-48f9-a4fd-dcf91430166e"
      },
      "execution_count": null,
      "outputs": [
        {
          "output_type": "stream",
          "name": "stdout",
          "text": [
            "hello\n",
            "world\n",
            "hello\tworld\n",
            "he said \"hey\"\n",
            "c:\\waleed\\waleed\\\n",
            "c:\\khan\\khan\n"
          ]
        }
      ]
    }
  ]
}